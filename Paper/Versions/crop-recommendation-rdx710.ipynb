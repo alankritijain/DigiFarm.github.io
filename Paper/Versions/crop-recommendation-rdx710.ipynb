{
 "cells": [
  {
   "cell_type": "code",
   "execution_count": 1,
   "id": "accomplished-partner",
   "metadata": {
    "_cell_guid": "b1076dfc-b9ad-4769-8c92-a6c4dae69d19",
    "_uuid": "8f2839f25d086af736a60e9eeb907d3b93b6e0e5",
    "execution": {
     "iopub.execute_input": "2021-06-26T13:55:10.775161Z",
     "iopub.status.busy": "2021-06-26T13:55:10.774207Z",
     "iopub.status.idle": "2021-06-26T13:55:16.881666Z",
     "shell.execute_reply": "2021-06-26T13:55:16.880957Z",
     "shell.execute_reply.started": "2021-06-26T13:38:11.769790Z"
    },
    "papermill": {
     "duration": 6.134572,
     "end_time": "2021-06-26T13:55:16.881827",
     "exception": false,
     "start_time": "2021-06-26T13:55:10.747255",
     "status": "completed"
    },
    "tags": []
   },
   "outputs": [
    {
     "name": "stdout",
     "output_type": "stream",
     "text": [
      "/kaggle/input/crop-recommendation-dataset/Crop_recommendation.csv\n"
     ]
    }
   ],
   "source": [
    "# This Python 3 environment comes with many helpful analytics libraries installed\n",
    "# It is defined by the kaggle/python Docker image: https://github.com/kaggle/docker-python\n",
    "# For example, here's several helpful packages to load\n",
    "\n",
    "import numpy as np # linear algebra\n",
    "import pandas as pd # data processing, CSV file I/O (e.g. pd.read_csv)\n",
    "import seaborn as sns\n",
    "from matplotlib import pyplot as plt\n",
    "%matplotlib inline\n",
    "\n",
    "import tensorflow as tf\n",
    "\n",
    "from sklearn.model_selection import train_test_split as tts\n",
    "from sklearn.preprocessing import LabelEncoder\n",
    "from sklearn.preprocessing import StandardScaler\n",
    "\n",
    "# Input data files are available in the read-only \"../input/\" directory\n",
    "# For example, running this (by clicking run or pressing Shift+Enter) will list all files under the input directory\n",
    "\n",
    "import os\n",
    "for dirname, _, filenames in os.walk('/kaggle/input'):\n",
    "    for filename in filenames:\n",
    "        print(os.path.join(dirname, filename))\n",
    "\n",
    "# You can write up to 20GB to the current directory (/kaggle/working/) that gets preserved as output when you create a version using \"Save & Run All\" \n",
    "# You can also write temporary files to /kaggle/temp/, but they won't be saved outside of the current session"
   ]
  },
  {
   "cell_type": "code",
   "execution_count": 2,
   "id": "intensive-woman",
   "metadata": {
    "execution": {
     "iopub.execute_input": "2021-06-26T13:55:16.912711Z",
     "iopub.status.busy": "2021-06-26T13:55:16.912031Z",
     "iopub.status.idle": "2021-06-26T13:55:16.951895Z",
     "shell.execute_reply": "2021-06-26T13:55:16.951382Z",
     "shell.execute_reply.started": "2021-06-26T13:24:05.213086Z"
    },
    "papermill": {
     "duration": 0.056962,
     "end_time": "2021-06-26T13:55:16.952021",
     "exception": false,
     "start_time": "2021-06-26T13:55:16.895059",
     "status": "completed"
    },
    "tags": []
   },
   "outputs": [
    {
     "data": {
      "text/html": [
       "<div>\n",
       "<style scoped>\n",
       "    .dataframe tbody tr th:only-of-type {\n",
       "        vertical-align: middle;\n",
       "    }\n",
       "\n",
       "    .dataframe tbody tr th {\n",
       "        vertical-align: top;\n",
       "    }\n",
       "\n",
       "    .dataframe thead th {\n",
       "        text-align: right;\n",
       "    }\n",
       "</style>\n",
       "<table border=\"1\" class=\"dataframe\">\n",
       "  <thead>\n",
       "    <tr style=\"text-align: right;\">\n",
       "      <th></th>\n",
       "      <th>N</th>\n",
       "      <th>P</th>\n",
       "      <th>K</th>\n",
       "      <th>temperature</th>\n",
       "      <th>humidity</th>\n",
       "      <th>ph</th>\n",
       "      <th>rainfall</th>\n",
       "      <th>label</th>\n",
       "    </tr>\n",
       "  </thead>\n",
       "  <tbody>\n",
       "    <tr>\n",
       "      <th>0</th>\n",
       "      <td>90</td>\n",
       "      <td>42</td>\n",
       "      <td>43</td>\n",
       "      <td>20.879744</td>\n",
       "      <td>82.002744</td>\n",
       "      <td>6.502985</td>\n",
       "      <td>202.935536</td>\n",
       "      <td>rice</td>\n",
       "    </tr>\n",
       "    <tr>\n",
       "      <th>1</th>\n",
       "      <td>85</td>\n",
       "      <td>58</td>\n",
       "      <td>41</td>\n",
       "      <td>21.770462</td>\n",
       "      <td>80.319644</td>\n",
       "      <td>7.038096</td>\n",
       "      <td>226.655537</td>\n",
       "      <td>rice</td>\n",
       "    </tr>\n",
       "    <tr>\n",
       "      <th>2</th>\n",
       "      <td>60</td>\n",
       "      <td>55</td>\n",
       "      <td>44</td>\n",
       "      <td>23.004459</td>\n",
       "      <td>82.320763</td>\n",
       "      <td>7.840207</td>\n",
       "      <td>263.964248</td>\n",
       "      <td>rice</td>\n",
       "    </tr>\n",
       "    <tr>\n",
       "      <th>3</th>\n",
       "      <td>74</td>\n",
       "      <td>35</td>\n",
       "      <td>40</td>\n",
       "      <td>26.491096</td>\n",
       "      <td>80.158363</td>\n",
       "      <td>6.980401</td>\n",
       "      <td>242.864034</td>\n",
       "      <td>rice</td>\n",
       "    </tr>\n",
       "    <tr>\n",
       "      <th>4</th>\n",
       "      <td>78</td>\n",
       "      <td>42</td>\n",
       "      <td>42</td>\n",
       "      <td>20.130175</td>\n",
       "      <td>81.604873</td>\n",
       "      <td>7.628473</td>\n",
       "      <td>262.717340</td>\n",
       "      <td>rice</td>\n",
       "    </tr>\n",
       "  </tbody>\n",
       "</table>\n",
       "</div>"
      ],
      "text/plain": [
       "    N   P   K  temperature   humidity        ph    rainfall label\n",
       "0  90  42  43    20.879744  82.002744  6.502985  202.935536  rice\n",
       "1  85  58  41    21.770462  80.319644  7.038096  226.655537  rice\n",
       "2  60  55  44    23.004459  82.320763  7.840207  263.964248  rice\n",
       "3  74  35  40    26.491096  80.158363  6.980401  242.864034  rice\n",
       "4  78  42  42    20.130175  81.604873  7.628473  262.717340  rice"
      ]
     },
     "execution_count": 2,
     "metadata": {},
     "output_type": "execute_result"
    }
   ],
   "source": [
    "df_crop = pd.read_csv('../input/crop-recommendation-dataset/Crop_recommendation.csv')\n",
    "df_crop.head()"
   ]
  },
  {
   "cell_type": "code",
   "execution_count": 3,
   "id": "royal-ghana",
   "metadata": {
    "execution": {
     "iopub.execute_input": "2021-06-26T13:55:16.986331Z",
     "iopub.status.busy": "2021-06-26T13:55:16.985472Z",
     "iopub.status.idle": "2021-06-26T13:55:16.989693Z",
     "shell.execute_reply": "2021-06-26T13:55:16.989213Z",
     "shell.execute_reply.started": "2021-06-26T13:53:34.575343Z"
    },
    "papermill": {
     "duration": 0.02479,
     "end_time": "2021-06-26T13:55:16.989816",
     "exception": false,
     "start_time": "2021-06-26T13:55:16.965026",
     "status": "completed"
    },
    "tags": []
   },
   "outputs": [
    {
     "data": {
      "text/plain": [
       "N              0\n",
       "P              0\n",
       "K              0\n",
       "temperature    0\n",
       "humidity       0\n",
       "ph             0\n",
       "rainfall       0\n",
       "label          0\n",
       "dtype: int64"
      ]
     },
     "execution_count": 3,
     "metadata": {},
     "output_type": "execute_result"
    }
   ],
   "source": [
    "df_crop.isna().sum()"
   ]
  },
  {
   "cell_type": "code",
   "execution_count": 4,
   "id": "ideal-heather",
   "metadata": {
    "execution": {
     "iopub.execute_input": "2021-06-26T13:55:17.019975Z",
     "iopub.status.busy": "2021-06-26T13:55:17.019401Z",
     "iopub.status.idle": "2021-06-26T13:55:17.027249Z",
     "shell.execute_reply": "2021-06-26T13:55:17.027766Z",
     "shell.execute_reply.started": "2021-06-26T13:24:49.060691Z"
    },
    "papermill": {
     "duration": 0.024559,
     "end_time": "2021-06-26T13:55:17.027926",
     "exception": false,
     "start_time": "2021-06-26T13:55:17.003367",
     "status": "completed"
    },
    "tags": []
   },
   "outputs": [
    {
     "data": {
      "text/plain": [
       "array(['rice', 'maize', 'chickpea', 'kidneybeans', 'pigeonpeas',\n",
       "       'mothbeans', 'mungbean', 'blackgram', 'lentil', 'pomegranate',\n",
       "       'banana', 'mango', 'grapes', 'watermelon', 'muskmelon', 'apple',\n",
       "       'orange', 'papaya', 'coconut', 'cotton', 'jute', 'coffee'],\n",
       "      dtype=object)"
      ]
     },
     "execution_count": 4,
     "metadata": {},
     "output_type": "execute_result"
    }
   ],
   "source": [
    "df_crop['label'].unique()"
   ]
  },
  {
   "cell_type": "code",
   "execution_count": 5,
   "id": "advisory-professional",
   "metadata": {
    "execution": {
     "iopub.execute_input": "2021-06-26T13:55:17.058861Z",
     "iopub.status.busy": "2021-06-26T13:55:17.058257Z",
     "iopub.status.idle": "2021-06-26T13:55:17.067219Z",
     "shell.execute_reply": "2021-06-26T13:55:17.066734Z",
     "shell.execute_reply.started": "2021-06-26T13:28:55.878460Z"
    },
    "papermill": {
     "duration": 0.025358,
     "end_time": "2021-06-26T13:55:17.067358",
     "exception": false,
     "start_time": "2021-06-26T13:55:17.042000",
     "status": "completed"
    },
    "tags": []
   },
   "outputs": [
    {
     "data": {
      "text/plain": [
       "{0: 'apple',\n",
       " 1: 'banana',\n",
       " 2: 'blackgram',\n",
       " 3: 'chickpea',\n",
       " 4: 'coconut',\n",
       " 5: 'coffee',\n",
       " 6: 'cotton',\n",
       " 7: 'grapes',\n",
       " 8: 'jute',\n",
       " 9: 'kidneybeans',\n",
       " 10: 'lentil',\n",
       " 11: 'maize',\n",
       " 12: 'mango',\n",
       " 13: 'mothbeans',\n",
       " 14: 'mungbean',\n",
       " 15: 'muskmelon',\n",
       " 16: 'orange',\n",
       " 17: 'papaya',\n",
       " 18: 'pigeonpeas',\n",
       " 19: 'pomegranate',\n",
       " 20: 'rice',\n",
       " 21: 'watermelon'}"
      ]
     },
     "execution_count": 5,
     "metadata": {},
     "output_type": "execute_result"
    }
   ],
   "source": [
    "label_encode = LabelEncoder()\n",
    "\n",
    "df_crop['label'] = label_encode.fit_transform(df_crop['label'])\n",
    "crop_category = {index : label for index, label in enumerate(label_encode.classes_)}\n",
    "crop_category"
   ]
  },
  {
   "cell_type": "code",
   "execution_count": 6,
   "id": "radical-growth",
   "metadata": {
    "execution": {
     "iopub.execute_input": "2021-06-26T13:55:17.100345Z",
     "iopub.status.busy": "2021-06-26T13:55:17.099514Z",
     "iopub.status.idle": "2021-06-26T13:55:17.116531Z",
     "shell.execute_reply": "2021-06-26T13:55:17.117006Z",
     "shell.execute_reply.started": "2021-06-26T13:29:45.699316Z"
    },
    "papermill": {
     "duration": 0.034938,
     "end_time": "2021-06-26T13:55:17.117196",
     "exception": false,
     "start_time": "2021-06-26T13:55:17.082258",
     "status": "completed"
    },
    "tags": []
   },
   "outputs": [
    {
     "data": {
      "text/html": [
       "<div>\n",
       "<style scoped>\n",
       "    .dataframe tbody tr th:only-of-type {\n",
       "        vertical-align: middle;\n",
       "    }\n",
       "\n",
       "    .dataframe tbody tr th {\n",
       "        vertical-align: top;\n",
       "    }\n",
       "\n",
       "    .dataframe thead th {\n",
       "        text-align: right;\n",
       "    }\n",
       "</style>\n",
       "<table border=\"1\" class=\"dataframe\">\n",
       "  <thead>\n",
       "    <tr style=\"text-align: right;\">\n",
       "      <th></th>\n",
       "      <th>N</th>\n",
       "      <th>P</th>\n",
       "      <th>K</th>\n",
       "      <th>temperature</th>\n",
       "      <th>humidity</th>\n",
       "      <th>ph</th>\n",
       "      <th>rainfall</th>\n",
       "      <th>label</th>\n",
       "    </tr>\n",
       "  </thead>\n",
       "  <tbody>\n",
       "    <tr>\n",
       "      <th>0</th>\n",
       "      <td>90</td>\n",
       "      <td>42</td>\n",
       "      <td>43</td>\n",
       "      <td>20.879744</td>\n",
       "      <td>82.002744</td>\n",
       "      <td>6.502985</td>\n",
       "      <td>202.935536</td>\n",
       "      <td>20</td>\n",
       "    </tr>\n",
       "    <tr>\n",
       "      <th>1</th>\n",
       "      <td>85</td>\n",
       "      <td>58</td>\n",
       "      <td>41</td>\n",
       "      <td>21.770462</td>\n",
       "      <td>80.319644</td>\n",
       "      <td>7.038096</td>\n",
       "      <td>226.655537</td>\n",
       "      <td>20</td>\n",
       "    </tr>\n",
       "    <tr>\n",
       "      <th>2</th>\n",
       "      <td>60</td>\n",
       "      <td>55</td>\n",
       "      <td>44</td>\n",
       "      <td>23.004459</td>\n",
       "      <td>82.320763</td>\n",
       "      <td>7.840207</td>\n",
       "      <td>263.964248</td>\n",
       "      <td>20</td>\n",
       "    </tr>\n",
       "    <tr>\n",
       "      <th>3</th>\n",
       "      <td>74</td>\n",
       "      <td>35</td>\n",
       "      <td>40</td>\n",
       "      <td>26.491096</td>\n",
       "      <td>80.158363</td>\n",
       "      <td>6.980401</td>\n",
       "      <td>242.864034</td>\n",
       "      <td>20</td>\n",
       "    </tr>\n",
       "    <tr>\n",
       "      <th>4</th>\n",
       "      <td>78</td>\n",
       "      <td>42</td>\n",
       "      <td>42</td>\n",
       "      <td>20.130175</td>\n",
       "      <td>81.604873</td>\n",
       "      <td>7.628473</td>\n",
       "      <td>262.717340</td>\n",
       "      <td>20</td>\n",
       "    </tr>\n",
       "    <tr>\n",
       "      <th>...</th>\n",
       "      <td>...</td>\n",
       "      <td>...</td>\n",
       "      <td>...</td>\n",
       "      <td>...</td>\n",
       "      <td>...</td>\n",
       "      <td>...</td>\n",
       "      <td>...</td>\n",
       "      <td>...</td>\n",
       "    </tr>\n",
       "    <tr>\n",
       "      <th>2195</th>\n",
       "      <td>107</td>\n",
       "      <td>34</td>\n",
       "      <td>32</td>\n",
       "      <td>26.774637</td>\n",
       "      <td>66.413269</td>\n",
       "      <td>6.780064</td>\n",
       "      <td>177.774507</td>\n",
       "      <td>5</td>\n",
       "    </tr>\n",
       "    <tr>\n",
       "      <th>2196</th>\n",
       "      <td>99</td>\n",
       "      <td>15</td>\n",
       "      <td>27</td>\n",
       "      <td>27.417112</td>\n",
       "      <td>56.636362</td>\n",
       "      <td>6.086922</td>\n",
       "      <td>127.924610</td>\n",
       "      <td>5</td>\n",
       "    </tr>\n",
       "    <tr>\n",
       "      <th>2197</th>\n",
       "      <td>118</td>\n",
       "      <td>33</td>\n",
       "      <td>30</td>\n",
       "      <td>24.131797</td>\n",
       "      <td>67.225123</td>\n",
       "      <td>6.362608</td>\n",
       "      <td>173.322839</td>\n",
       "      <td>5</td>\n",
       "    </tr>\n",
       "    <tr>\n",
       "      <th>2198</th>\n",
       "      <td>117</td>\n",
       "      <td>32</td>\n",
       "      <td>34</td>\n",
       "      <td>26.272418</td>\n",
       "      <td>52.127394</td>\n",
       "      <td>6.758793</td>\n",
       "      <td>127.175293</td>\n",
       "      <td>5</td>\n",
       "    </tr>\n",
       "    <tr>\n",
       "      <th>2199</th>\n",
       "      <td>104</td>\n",
       "      <td>18</td>\n",
       "      <td>30</td>\n",
       "      <td>23.603016</td>\n",
       "      <td>60.396475</td>\n",
       "      <td>6.779833</td>\n",
       "      <td>140.937041</td>\n",
       "      <td>5</td>\n",
       "    </tr>\n",
       "  </tbody>\n",
       "</table>\n",
       "<p>2200 rows × 8 columns</p>\n",
       "</div>"
      ],
      "text/plain": [
       "        N   P   K  temperature   humidity        ph    rainfall  label\n",
       "0      90  42  43    20.879744  82.002744  6.502985  202.935536     20\n",
       "1      85  58  41    21.770462  80.319644  7.038096  226.655537     20\n",
       "2      60  55  44    23.004459  82.320763  7.840207  263.964248     20\n",
       "3      74  35  40    26.491096  80.158363  6.980401  242.864034     20\n",
       "4      78  42  42    20.130175  81.604873  7.628473  262.717340     20\n",
       "...   ...  ..  ..          ...        ...       ...         ...    ...\n",
       "2195  107  34  32    26.774637  66.413269  6.780064  177.774507      5\n",
       "2196   99  15  27    27.417112  56.636362  6.086922  127.924610      5\n",
       "2197  118  33  30    24.131797  67.225123  6.362608  173.322839      5\n",
       "2198  117  32  34    26.272418  52.127394  6.758793  127.175293      5\n",
       "2199  104  18  30    23.603016  60.396475  6.779833  140.937041      5\n",
       "\n",
       "[2200 rows x 8 columns]"
      ]
     },
     "execution_count": 6,
     "metadata": {},
     "output_type": "execute_result"
    }
   ],
   "source": [
    "df_crop"
   ]
  },
  {
   "cell_type": "code",
   "execution_count": 7,
   "id": "attractive-boundary",
   "metadata": {
    "execution": {
     "iopub.execute_input": "2021-06-26T13:55:17.150472Z",
     "iopub.status.busy": "2021-06-26T13:55:17.149697Z",
     "iopub.status.idle": "2021-06-26T13:55:17.154427Z",
     "shell.execute_reply": "2021-06-26T13:55:17.154915Z",
     "shell.execute_reply.started": "2021-06-26T13:30:31.857725Z"
    },
    "papermill": {
     "duration": 0.022659,
     "end_time": "2021-06-26T13:55:17.155085",
     "exception": false,
     "start_time": "2021-06-26T13:55:17.132426",
     "status": "completed"
    },
    "tags": []
   },
   "outputs": [],
   "source": [
    "X = df_crop.drop('label', axis = 1)\n",
    "y = df_crop['label']"
   ]
  },
  {
   "cell_type": "code",
   "execution_count": 8,
   "id": "threatened-journey",
   "metadata": {
    "execution": {
     "iopub.execute_input": "2021-06-26T13:55:17.187329Z",
     "iopub.status.busy": "2021-06-26T13:55:17.186726Z",
     "iopub.status.idle": "2021-06-26T13:55:17.201741Z",
     "shell.execute_reply": "2021-06-26T13:55:17.201274Z",
     "shell.execute_reply.started": "2021-06-26T13:30:39.345395Z"
    },
    "papermill": {
     "duration": 0.032023,
     "end_time": "2021-06-26T13:55:17.201860",
     "exception": false,
     "start_time": "2021-06-26T13:55:17.169837",
     "status": "completed"
    },
    "tags": []
   },
   "outputs": [
    {
     "data": {
      "text/html": [
       "<div>\n",
       "<style scoped>\n",
       "    .dataframe tbody tr th:only-of-type {\n",
       "        vertical-align: middle;\n",
       "    }\n",
       "\n",
       "    .dataframe tbody tr th {\n",
       "        vertical-align: top;\n",
       "    }\n",
       "\n",
       "    .dataframe thead th {\n",
       "        text-align: right;\n",
       "    }\n",
       "</style>\n",
       "<table border=\"1\" class=\"dataframe\">\n",
       "  <thead>\n",
       "    <tr style=\"text-align: right;\">\n",
       "      <th></th>\n",
       "      <th>N</th>\n",
       "      <th>P</th>\n",
       "      <th>K</th>\n",
       "      <th>temperature</th>\n",
       "      <th>humidity</th>\n",
       "      <th>ph</th>\n",
       "      <th>rainfall</th>\n",
       "    </tr>\n",
       "  </thead>\n",
       "  <tbody>\n",
       "    <tr>\n",
       "      <th>0</th>\n",
       "      <td>90</td>\n",
       "      <td>42</td>\n",
       "      <td>43</td>\n",
       "      <td>20.879744</td>\n",
       "      <td>82.002744</td>\n",
       "      <td>6.502985</td>\n",
       "      <td>202.935536</td>\n",
       "    </tr>\n",
       "    <tr>\n",
       "      <th>1</th>\n",
       "      <td>85</td>\n",
       "      <td>58</td>\n",
       "      <td>41</td>\n",
       "      <td>21.770462</td>\n",
       "      <td>80.319644</td>\n",
       "      <td>7.038096</td>\n",
       "      <td>226.655537</td>\n",
       "    </tr>\n",
       "    <tr>\n",
       "      <th>2</th>\n",
       "      <td>60</td>\n",
       "      <td>55</td>\n",
       "      <td>44</td>\n",
       "      <td>23.004459</td>\n",
       "      <td>82.320763</td>\n",
       "      <td>7.840207</td>\n",
       "      <td>263.964248</td>\n",
       "    </tr>\n",
       "    <tr>\n",
       "      <th>3</th>\n",
       "      <td>74</td>\n",
       "      <td>35</td>\n",
       "      <td>40</td>\n",
       "      <td>26.491096</td>\n",
       "      <td>80.158363</td>\n",
       "      <td>6.980401</td>\n",
       "      <td>242.864034</td>\n",
       "    </tr>\n",
       "    <tr>\n",
       "      <th>4</th>\n",
       "      <td>78</td>\n",
       "      <td>42</td>\n",
       "      <td>42</td>\n",
       "      <td>20.130175</td>\n",
       "      <td>81.604873</td>\n",
       "      <td>7.628473</td>\n",
       "      <td>262.717340</td>\n",
       "    </tr>\n",
       "    <tr>\n",
       "      <th>...</th>\n",
       "      <td>...</td>\n",
       "      <td>...</td>\n",
       "      <td>...</td>\n",
       "      <td>...</td>\n",
       "      <td>...</td>\n",
       "      <td>...</td>\n",
       "      <td>...</td>\n",
       "    </tr>\n",
       "    <tr>\n",
       "      <th>2195</th>\n",
       "      <td>107</td>\n",
       "      <td>34</td>\n",
       "      <td>32</td>\n",
       "      <td>26.774637</td>\n",
       "      <td>66.413269</td>\n",
       "      <td>6.780064</td>\n",
       "      <td>177.774507</td>\n",
       "    </tr>\n",
       "    <tr>\n",
       "      <th>2196</th>\n",
       "      <td>99</td>\n",
       "      <td>15</td>\n",
       "      <td>27</td>\n",
       "      <td>27.417112</td>\n",
       "      <td>56.636362</td>\n",
       "      <td>6.086922</td>\n",
       "      <td>127.924610</td>\n",
       "    </tr>\n",
       "    <tr>\n",
       "      <th>2197</th>\n",
       "      <td>118</td>\n",
       "      <td>33</td>\n",
       "      <td>30</td>\n",
       "      <td>24.131797</td>\n",
       "      <td>67.225123</td>\n",
       "      <td>6.362608</td>\n",
       "      <td>173.322839</td>\n",
       "    </tr>\n",
       "    <tr>\n",
       "      <th>2198</th>\n",
       "      <td>117</td>\n",
       "      <td>32</td>\n",
       "      <td>34</td>\n",
       "      <td>26.272418</td>\n",
       "      <td>52.127394</td>\n",
       "      <td>6.758793</td>\n",
       "      <td>127.175293</td>\n",
       "    </tr>\n",
       "    <tr>\n",
       "      <th>2199</th>\n",
       "      <td>104</td>\n",
       "      <td>18</td>\n",
       "      <td>30</td>\n",
       "      <td>23.603016</td>\n",
       "      <td>60.396475</td>\n",
       "      <td>6.779833</td>\n",
       "      <td>140.937041</td>\n",
       "    </tr>\n",
       "  </tbody>\n",
       "</table>\n",
       "<p>2200 rows × 7 columns</p>\n",
       "</div>"
      ],
      "text/plain": [
       "        N   P   K  temperature   humidity        ph    rainfall\n",
       "0      90  42  43    20.879744  82.002744  6.502985  202.935536\n",
       "1      85  58  41    21.770462  80.319644  7.038096  226.655537\n",
       "2      60  55  44    23.004459  82.320763  7.840207  263.964248\n",
       "3      74  35  40    26.491096  80.158363  6.980401  242.864034\n",
       "4      78  42  42    20.130175  81.604873  7.628473  262.717340\n",
       "...   ...  ..  ..          ...        ...       ...         ...\n",
       "2195  107  34  32    26.774637  66.413269  6.780064  177.774507\n",
       "2196   99  15  27    27.417112  56.636362  6.086922  127.924610\n",
       "2197  118  33  30    24.131797  67.225123  6.362608  173.322839\n",
       "2198  117  32  34    26.272418  52.127394  6.758793  127.175293\n",
       "2199  104  18  30    23.603016  60.396475  6.779833  140.937041\n",
       "\n",
       "[2200 rows x 7 columns]"
      ]
     },
     "execution_count": 8,
     "metadata": {},
     "output_type": "execute_result"
    }
   ],
   "source": [
    "X"
   ]
  },
  {
   "cell_type": "code",
   "execution_count": 9,
   "id": "brave-florida",
   "metadata": {
    "execution": {
     "iopub.execute_input": "2021-06-26T13:55:17.238707Z",
     "iopub.status.busy": "2021-06-26T13:55:17.237900Z",
     "iopub.status.idle": "2021-06-26T13:55:17.240858Z",
     "shell.execute_reply": "2021-06-26T13:55:17.241385Z",
     "shell.execute_reply.started": "2021-06-26T13:30:44.566503Z"
    },
    "papermill": {
     "duration": 0.024739,
     "end_time": "2021-06-26T13:55:17.241580",
     "exception": false,
     "start_time": "2021-06-26T13:55:17.216841",
     "status": "completed"
    },
    "tags": []
   },
   "outputs": [
    {
     "data": {
      "text/plain": [
       "0       20\n",
       "1       20\n",
       "2       20\n",
       "3       20\n",
       "4       20\n",
       "        ..\n",
       "2195     5\n",
       "2196     5\n",
       "2197     5\n",
       "2198     5\n",
       "2199     5\n",
       "Name: label, Length: 2200, dtype: int64"
      ]
     },
     "execution_count": 9,
     "metadata": {},
     "output_type": "execute_result"
    }
   ],
   "source": [
    "y"
   ]
  },
  {
   "cell_type": "code",
   "execution_count": 10,
   "id": "infinite-roman",
   "metadata": {
    "execution": {
     "iopub.execute_input": "2021-06-26T13:55:17.274730Z",
     "iopub.status.busy": "2021-06-26T13:55:17.273821Z",
     "iopub.status.idle": "2021-06-26T13:55:17.280574Z",
     "shell.execute_reply": "2021-06-26T13:55:17.280992Z",
     "shell.execute_reply.started": "2021-06-26T13:44:11.761340Z"
    },
    "papermill": {
     "duration": 0.024371,
     "end_time": "2021-06-26T13:55:17.281163",
     "exception": false,
     "start_time": "2021-06-26T13:55:17.256792",
     "status": "completed"
    },
    "tags": []
   },
   "outputs": [],
   "source": [
    "X_train, X_test, y_train, y_test = tts(X, y, train_size = 0.8)"
   ]
  },
  {
   "cell_type": "code",
   "execution_count": 11,
   "id": "narrow-apartment",
   "metadata": {
    "execution": {
     "iopub.execute_input": "2021-06-26T13:55:17.314670Z",
     "iopub.status.busy": "2021-06-26T13:55:17.313772Z",
     "iopub.status.idle": "2021-06-26T13:55:17.318572Z",
     "shell.execute_reply": "2021-06-26T13:55:17.319021Z",
     "shell.execute_reply.started": "2021-06-26T13:44:12.900879Z"
    },
    "papermill": {
     "duration": 0.022554,
     "end_time": "2021-06-26T13:55:17.319212",
     "exception": false,
     "start_time": "2021-06-26T13:55:17.296658",
     "status": "completed"
    },
    "tags": []
   },
   "outputs": [
    {
     "data": {
      "text/plain": [
       "(1760, 7)"
      ]
     },
     "execution_count": 11,
     "metadata": {},
     "output_type": "execute_result"
    }
   ],
   "source": [
    "X_train.shape"
   ]
  },
  {
   "cell_type": "code",
   "execution_count": 12,
   "id": "classified-spell",
   "metadata": {
    "execution": {
     "iopub.execute_input": "2021-06-26T13:55:17.353677Z",
     "iopub.status.busy": "2021-06-26T13:55:17.352719Z",
     "iopub.status.idle": "2021-06-26T13:55:24.540761Z",
     "shell.execute_reply": "2021-06-26T13:55:24.540053Z",
     "shell.execute_reply.started": "2021-06-26T13:52:25.681975Z"
    },
    "papermill": {
     "duration": 7.206226,
     "end_time": "2021-06-26T13:55:24.540910",
     "exception": false,
     "start_time": "2021-06-26T13:55:17.334684",
     "status": "completed"
    },
    "tags": []
   },
   "outputs": [
    {
     "name": "stdout",
     "output_type": "stream",
     "text": [
      "Epoch 1/89\n",
      "11/11 [==============================] - 1s 59ms/step - loss: 34.9488 - accuracy: 0.0747 - val_loss: 22.7235 - val_accuracy: 0.0824\n",
      "Epoch 2/89\n",
      "11/11 [==============================] - 0s 6ms/step - loss: 20.3253 - accuracy: 0.0946 - val_loss: 15.2829 - val_accuracy: 0.1761\n",
      "Epoch 3/89\n",
      "11/11 [==============================] - 0s 6ms/step - loss: 13.9738 - accuracy: 0.1989 - val_loss: 10.5857 - val_accuracy: 0.1818\n",
      "Epoch 4/89\n",
      "11/11 [==============================] - 0s 6ms/step - loss: 9.0895 - accuracy: 0.2093 - val_loss: 6.6005 - val_accuracy: 0.2188\n",
      "Epoch 5/89\n",
      "11/11 [==============================] - 0s 6ms/step - loss: 5.4573 - accuracy: 0.2747 - val_loss: 4.0082 - val_accuracy: 0.2869\n",
      "Epoch 6/89\n",
      "11/11 [==============================] - 0s 6ms/step - loss: 3.3414 - accuracy: 0.3556 - val_loss: 2.3601 - val_accuracy: 0.3920\n",
      "Epoch 7/89\n",
      "11/11 [==============================] - 0s 6ms/step - loss: 1.8320 - accuracy: 0.5204 - val_loss: 1.5892 - val_accuracy: 0.6080\n",
      "Epoch 8/89\n",
      "11/11 [==============================] - 0s 6ms/step - loss: 1.2493 - accuracy: 0.6434 - val_loss: 1.1775 - val_accuracy: 0.6591\n",
      "Epoch 9/89\n",
      "11/11 [==============================] - 0s 6ms/step - loss: 0.9090 - accuracy: 0.7183 - val_loss: 0.8238 - val_accuracy: 0.6989\n",
      "Epoch 10/89\n",
      "11/11 [==============================] - 0s 6ms/step - loss: 0.6721 - accuracy: 0.7387 - val_loss: 0.6883 - val_accuracy: 0.7528\n",
      "Epoch 11/89\n",
      "11/11 [==============================] - 0s 6ms/step - loss: 0.5596 - accuracy: 0.8106 - val_loss: 0.5414 - val_accuracy: 0.8068\n",
      "Epoch 12/89\n",
      "11/11 [==============================] - 0s 6ms/step - loss: 0.4603 - accuracy: 0.8418 - val_loss: 0.4714 - val_accuracy: 0.8381\n",
      "Epoch 13/89\n",
      "11/11 [==============================] - 0s 6ms/step - loss: 0.4230 - accuracy: 0.8452 - val_loss: 0.4333 - val_accuracy: 0.8665\n",
      "Epoch 14/89\n",
      "11/11 [==============================] - 0s 6ms/step - loss: 0.3610 - accuracy: 0.8821 - val_loss: 0.4082 - val_accuracy: 0.8722\n",
      "Epoch 15/89\n",
      "11/11 [==============================] - 0s 6ms/step - loss: 0.3218 - accuracy: 0.8927 - val_loss: 0.3684 - val_accuracy: 0.8693\n",
      "Epoch 16/89\n",
      "11/11 [==============================] - 0s 6ms/step - loss: 0.3187 - accuracy: 0.8862 - val_loss: 0.3672 - val_accuracy: 0.8778\n",
      "Epoch 17/89\n",
      "11/11 [==============================] - 0s 6ms/step - loss: 0.2977 - accuracy: 0.8965 - val_loss: 0.3290 - val_accuracy: 0.8778\n",
      "Epoch 18/89\n",
      "11/11 [==============================] - 0s 6ms/step - loss: 0.2673 - accuracy: 0.9117 - val_loss: 0.3194 - val_accuracy: 0.8949\n",
      "Epoch 19/89\n",
      "11/11 [==============================] - 0s 6ms/step - loss: 0.2678 - accuracy: 0.9131 - val_loss: 0.3077 - val_accuracy: 0.8977\n",
      "Epoch 20/89\n",
      "11/11 [==============================] - 0s 6ms/step - loss: 0.2460 - accuracy: 0.9165 - val_loss: 0.2846 - val_accuracy: 0.8977\n",
      "Epoch 21/89\n",
      "11/11 [==============================] - 0s 6ms/step - loss: 0.2364 - accuracy: 0.9125 - val_loss: 0.2754 - val_accuracy: 0.9062\n",
      "Epoch 22/89\n",
      "11/11 [==============================] - 0s 6ms/step - loss: 0.2096 - accuracy: 0.9376 - val_loss: 0.2760 - val_accuracy: 0.9006\n",
      "Epoch 23/89\n",
      "11/11 [==============================] - 0s 6ms/step - loss: 0.2227 - accuracy: 0.9282 - val_loss: 0.2600 - val_accuracy: 0.9091\n",
      "Epoch 24/89\n",
      "11/11 [==============================] - 0s 6ms/step - loss: 0.2084 - accuracy: 0.9386 - val_loss: 0.2672 - val_accuracy: 0.9062\n",
      "Epoch 25/89\n",
      "11/11 [==============================] - 0s 6ms/step - loss: 0.1978 - accuracy: 0.9356 - val_loss: 0.2477 - val_accuracy: 0.9148\n",
      "Epoch 26/89\n",
      "11/11 [==============================] - 0s 6ms/step - loss: 0.1879 - accuracy: 0.9425 - val_loss: 0.2521 - val_accuracy: 0.9006\n",
      "Epoch 27/89\n",
      "11/11 [==============================] - 0s 6ms/step - loss: 0.1829 - accuracy: 0.9493 - val_loss: 0.2380 - val_accuracy: 0.9148\n",
      "Epoch 28/89\n",
      "11/11 [==============================] - 0s 6ms/step - loss: 0.1859 - accuracy: 0.9490 - val_loss: 0.2505 - val_accuracy: 0.9119\n",
      "Epoch 29/89\n",
      "11/11 [==============================] - 0s 6ms/step - loss: 0.1810 - accuracy: 0.9440 - val_loss: 0.2292 - val_accuracy: 0.9233\n",
      "Epoch 30/89\n",
      "11/11 [==============================] - 0s 6ms/step - loss: 0.1828 - accuracy: 0.9464 - val_loss: 0.2423 - val_accuracy: 0.9205\n",
      "Epoch 31/89\n",
      "11/11 [==============================] - 0s 6ms/step - loss: 0.1750 - accuracy: 0.9447 - val_loss: 0.2276 - val_accuracy: 0.9176\n",
      "Epoch 32/89\n",
      "11/11 [==============================] - 0s 6ms/step - loss: 0.1643 - accuracy: 0.9509 - val_loss: 0.2248 - val_accuracy: 0.9176\n",
      "Epoch 33/89\n",
      "11/11 [==============================] - 0s 6ms/step - loss: 0.1482 - accuracy: 0.9634 - val_loss: 0.2272 - val_accuracy: 0.9091\n",
      "Epoch 34/89\n",
      "11/11 [==============================] - 0s 6ms/step - loss: 0.1545 - accuracy: 0.9605 - val_loss: 0.2175 - val_accuracy: 0.9205\n",
      "Epoch 35/89\n",
      "11/11 [==============================] - 0s 6ms/step - loss: 0.1650 - accuracy: 0.9533 - val_loss: 0.2252 - val_accuracy: 0.9205\n",
      "Epoch 36/89\n",
      "11/11 [==============================] - 0s 6ms/step - loss: 0.1695 - accuracy: 0.9455 - val_loss: 0.2144 - val_accuracy: 0.9290\n",
      "Epoch 37/89\n",
      "11/11 [==============================] - 0s 6ms/step - loss: 0.1438 - accuracy: 0.9638 - val_loss: 0.2154 - val_accuracy: 0.9176\n",
      "Epoch 38/89\n",
      "11/11 [==============================] - 0s 6ms/step - loss: 0.1338 - accuracy: 0.9681 - val_loss: 0.2076 - val_accuracy: 0.9233\n",
      "Epoch 39/89\n",
      "11/11 [==============================] - 0s 6ms/step - loss: 0.1327 - accuracy: 0.9633 - val_loss: 0.2005 - val_accuracy: 0.9233\n",
      "Epoch 40/89\n",
      "11/11 [==============================] - 0s 6ms/step - loss: 0.1435 - accuracy: 0.9601 - val_loss: 0.2096 - val_accuracy: 0.9233\n",
      "Epoch 41/89\n",
      "11/11 [==============================] - 0s 6ms/step - loss: 0.1383 - accuracy: 0.9641 - val_loss: 0.1927 - val_accuracy: 0.9233\n",
      "Epoch 42/89\n",
      "11/11 [==============================] - 0s 6ms/step - loss: 0.1619 - accuracy: 0.9553 - val_loss: 0.2269 - val_accuracy: 0.9205\n",
      "Epoch 43/89\n",
      "11/11 [==============================] - 0s 6ms/step - loss: 0.1473 - accuracy: 0.9485 - val_loss: 0.1902 - val_accuracy: 0.9375\n",
      "Epoch 44/89\n",
      "11/11 [==============================] - 0s 6ms/step - loss: 0.1514 - accuracy: 0.9563 - val_loss: 0.2039 - val_accuracy: 0.9205\n",
      "Epoch 45/89\n",
      "11/11 [==============================] - 0s 6ms/step - loss: 0.1331 - accuracy: 0.9686 - val_loss: 0.2045 - val_accuracy: 0.9176\n",
      "Epoch 46/89\n",
      "11/11 [==============================] - 0s 6ms/step - loss: 0.1417 - accuracy: 0.9539 - val_loss: 0.1895 - val_accuracy: 0.9233\n",
      "Epoch 47/89\n",
      "11/11 [==============================] - 0s 6ms/step - loss: 0.1315 - accuracy: 0.9651 - val_loss: 0.1944 - val_accuracy: 0.9176\n",
      "Epoch 48/89\n",
      "11/11 [==============================] - 0s 6ms/step - loss: 0.1172 - accuracy: 0.9662 - val_loss: 0.1994 - val_accuracy: 0.9261\n",
      "Epoch 49/89\n",
      "11/11 [==============================] - 0s 6ms/step - loss: 0.1205 - accuracy: 0.9708 - val_loss: 0.1952 - val_accuracy: 0.9318\n",
      "Epoch 50/89\n",
      "11/11 [==============================] - 0s 6ms/step - loss: 0.1429 - accuracy: 0.9524 - val_loss: 0.1879 - val_accuracy: 0.9233\n",
      "Epoch 51/89\n",
      "11/11 [==============================] - 0s 6ms/step - loss: 0.1119 - accuracy: 0.9690 - val_loss: 0.1846 - val_accuracy: 0.9261\n",
      "Epoch 52/89\n",
      "11/11 [==============================] - 0s 6ms/step - loss: 0.1275 - accuracy: 0.9560 - val_loss: 0.1786 - val_accuracy: 0.9318\n",
      "Epoch 53/89\n",
      "11/11 [==============================] - 0s 8ms/step - loss: 0.1141 - accuracy: 0.9616 - val_loss: 0.1770 - val_accuracy: 0.9290\n",
      "Epoch 54/89\n",
      "11/11 [==============================] - 0s 7ms/step - loss: 0.1158 - accuracy: 0.9639 - val_loss: 0.1939 - val_accuracy: 0.9261\n",
      "Epoch 55/89\n",
      "11/11 [==============================] - 0s 7ms/step - loss: 0.1107 - accuracy: 0.9649 - val_loss: 0.1717 - val_accuracy: 0.9347\n",
      "Epoch 56/89\n",
      "11/11 [==============================] - 0s 8ms/step - loss: 0.1151 - accuracy: 0.9621 - val_loss: 0.1795 - val_accuracy: 0.9375\n",
      "Epoch 57/89\n",
      "11/11 [==============================] - 0s 7ms/step - loss: 0.1224 - accuracy: 0.9658 - val_loss: 0.1749 - val_accuracy: 0.9318\n",
      "Epoch 58/89\n",
      "11/11 [==============================] - 0s 7ms/step - loss: 0.1117 - accuracy: 0.9712 - val_loss: 0.1748 - val_accuracy: 0.9318\n",
      "Epoch 59/89\n",
      "11/11 [==============================] - 0s 6ms/step - loss: 0.1106 - accuracy: 0.9683 - val_loss: 0.2010 - val_accuracy: 0.9290\n",
      "Epoch 60/89\n",
      "11/11 [==============================] - 0s 7ms/step - loss: 0.1087 - accuracy: 0.9664 - val_loss: 0.1715 - val_accuracy: 0.9290\n",
      "Epoch 61/89\n",
      "11/11 [==============================] - 0s 6ms/step - loss: 0.1120 - accuracy: 0.9668 - val_loss: 0.1746 - val_accuracy: 0.9347\n",
      "Epoch 62/89\n",
      "11/11 [==============================] - 0s 7ms/step - loss: 0.1247 - accuracy: 0.9659 - val_loss: 0.1724 - val_accuracy: 0.9375\n",
      "Epoch 63/89\n",
      "11/11 [==============================] - 0s 7ms/step - loss: 0.1046 - accuracy: 0.9684 - val_loss: 0.1788 - val_accuracy: 0.9375\n",
      "Epoch 64/89\n",
      "11/11 [==============================] - 0s 6ms/step - loss: 0.1120 - accuracy: 0.9706 - val_loss: 0.1655 - val_accuracy: 0.9403\n",
      "Epoch 65/89\n",
      "11/11 [==============================] - 0s 6ms/step - loss: 0.1029 - accuracy: 0.9682 - val_loss: 0.1667 - val_accuracy: 0.9347\n",
      "Epoch 66/89\n",
      "11/11 [==============================] - 0s 6ms/step - loss: 0.1243 - accuracy: 0.9587 - val_loss: 0.1709 - val_accuracy: 0.9290\n",
      "Epoch 67/89\n",
      "11/11 [==============================] - 0s 7ms/step - loss: 0.1100 - accuracy: 0.9673 - val_loss: 0.1635 - val_accuracy: 0.9318\n",
      "Epoch 68/89\n",
      "11/11 [==============================] - 0s 6ms/step - loss: 0.1002 - accuracy: 0.9719 - val_loss: 0.1775 - val_accuracy: 0.9233\n",
      "Epoch 69/89\n",
      "11/11 [==============================] - 0s 6ms/step - loss: 0.1012 - accuracy: 0.9667 - val_loss: 0.1709 - val_accuracy: 0.9347\n",
      "Epoch 70/89\n",
      "11/11 [==============================] - 0s 6ms/step - loss: 0.0924 - accuracy: 0.9745 - val_loss: 0.1565 - val_accuracy: 0.9318\n",
      "Epoch 71/89\n",
      "11/11 [==============================] - 0s 6ms/step - loss: 0.1095 - accuracy: 0.9698 - val_loss: 0.1622 - val_accuracy: 0.9290\n",
      "Epoch 72/89\n",
      "11/11 [==============================] - 0s 6ms/step - loss: 0.1019 - accuracy: 0.9689 - val_loss: 0.1634 - val_accuracy: 0.9403\n",
      "Epoch 73/89\n",
      "11/11 [==============================] - 0s 6ms/step - loss: 0.1118 - accuracy: 0.9665 - val_loss: 0.1568 - val_accuracy: 0.9432\n",
      "Epoch 74/89\n",
      "11/11 [==============================] - 0s 6ms/step - loss: 0.1160 - accuracy: 0.9693 - val_loss: 0.1681 - val_accuracy: 0.9290\n",
      "Epoch 75/89\n",
      "11/11 [==============================] - 0s 7ms/step - loss: 0.1103 - accuracy: 0.9670 - val_loss: 0.1630 - val_accuracy: 0.9233\n",
      "Epoch 76/89\n",
      "11/11 [==============================] - 0s 8ms/step - loss: 0.0990 - accuracy: 0.9669 - val_loss: 0.1523 - val_accuracy: 0.9347\n",
      "Epoch 77/89\n",
      "11/11 [==============================] - 0s 6ms/step - loss: 0.1152 - accuracy: 0.9593 - val_loss: 0.1668 - val_accuracy: 0.9318\n",
      "Epoch 78/89\n",
      "11/11 [==============================] - 0s 6ms/step - loss: 0.1063 - accuracy: 0.9675 - val_loss: 0.1625 - val_accuracy: 0.9318\n",
      "Epoch 79/89\n",
      "11/11 [==============================] - 0s 6ms/step - loss: 0.0931 - accuracy: 0.9710 - val_loss: 0.1586 - val_accuracy: 0.9375\n",
      "Epoch 80/89\n",
      "11/11 [==============================] - 0s 6ms/step - loss: 0.0923 - accuracy: 0.9737 - val_loss: 0.1552 - val_accuracy: 0.9347\n",
      "Epoch 81/89\n",
      "11/11 [==============================] - 0s 6ms/step - loss: 0.0863 - accuracy: 0.9711 - val_loss: 0.1550 - val_accuracy: 0.9290\n",
      "Epoch 82/89\n",
      "11/11 [==============================] - 0s 6ms/step - loss: 0.0885 - accuracy: 0.9762 - val_loss: 0.1559 - val_accuracy: 0.9375\n",
      "Epoch 83/89\n",
      "11/11 [==============================] - 0s 6ms/step - loss: 0.0842 - accuracy: 0.9779 - val_loss: 0.1574 - val_accuracy: 0.9318\n",
      "Epoch 84/89\n",
      "11/11 [==============================] - 0s 6ms/step - loss: 0.0850 - accuracy: 0.9787 - val_loss: 0.1603 - val_accuracy: 0.9290\n",
      "Epoch 85/89\n",
      "11/11 [==============================] - 0s 6ms/step - loss: 0.0916 - accuracy: 0.9729 - val_loss: 0.1511 - val_accuracy: 0.9347\n",
      "Epoch 86/89\n",
      "11/11 [==============================] - 0s 6ms/step - loss: 0.0926 - accuracy: 0.9719 - val_loss: 0.1793 - val_accuracy: 0.9261\n",
      "Epoch 87/89\n",
      "11/11 [==============================] - 0s 6ms/step - loss: 0.1088 - accuracy: 0.9637 - val_loss: 0.1492 - val_accuracy: 0.9318\n",
      "Epoch 88/89\n",
      "11/11 [==============================] - 0s 6ms/step - loss: 0.0829 - accuracy: 0.9792 - val_loss: 0.1438 - val_accuracy: 0.9375\n",
      "Epoch 89/89\n",
      "11/11 [==============================] - 0s 6ms/step - loss: 0.0949 - accuracy: 0.9738 - val_loss: 0.1660 - val_accuracy: 0.9347\n"
     ]
    }
   ],
   "source": [
    "inputs = tf.keras.Input(shape = (7, ))\n",
    "x = tf.keras.layers.Dense(64, activation = 'relu')(inputs)\n",
    "# x = tf.keras.layers.Dense(64, activation = 'relu')(x)\n",
    "outputs = tf.keras.layers.Dense(22, activation = 'softmax')(x)\n",
    "\n",
    "model = tf.keras.Model(inputs, outputs)\n",
    "\n",
    "model.compile(\n",
    "    optimizer = 'adam',\n",
    "    loss = 'sparse_categorical_crossentropy',\n",
    "    metrics = 'accuracy'\n",
    ")\n",
    "\n",
    "batch_size = 128\n",
    "epochs = 89\n",
    "\n",
    "history = model.fit(\n",
    "    X_train,\n",
    "    y_train,\n",
    "    validation_split = 0.2,\n",
    "    batch_size = batch_size,\n",
    "    epochs = epochs\n",
    ")"
   ]
  },
  {
   "cell_type": "code",
   "execution_count": 13,
   "id": "mathematical-tennis",
   "metadata": {
    "execution": {
     "iopub.execute_input": "2021-06-26T13:55:24.710431Z",
     "iopub.status.busy": "2021-06-26T13:55:24.709669Z",
     "iopub.status.idle": "2021-06-26T13:55:24.915414Z",
     "shell.execute_reply": "2021-06-26T13:55:24.914818Z",
     "shell.execute_reply.started": "2021-06-26T13:52:36.819059Z"
    },
    "papermill": {
     "duration": 0.301313,
     "end_time": "2021-06-26T13:55:24.915548",
     "exception": false,
     "start_time": "2021-06-26T13:55:24.614235",
     "status": "completed"
    },
    "tags": []
   },
   "outputs": [
    {
     "data": {
      "image/png": "[encoded data removed]",
      "text/plain": [
       "<Figure size 1440x720 with 1 Axes>"
      ]
     },
     "metadata": {
      "needs_background": "light"
     },
     "output_type": "display_data"
    }
   ],
   "source": [
    "plt.figure(figsize = (20, 10))\n",
    "\n",
    "plt.plot(range(epochs), history.history['loss'], label = 'Training loss')\n",
    "plt.plot(range(epochs), history.history['val_loss'], label = 'Validation loss')\n",
    "\n",
    "plt.xlabel('Epoch')\n",
    "plt.ylabel('Loss')\n",
    "plt.legend()\n",
    "\n",
    "plt.show()"
   ]
  },
  {
   "cell_type": "code",
   "execution_count": 14,
   "id": "labeled-novelty",
   "metadata": {
    "execution": {
     "iopub.execute_input": "2021-06-26T13:55:25.068654Z",
     "iopub.status.busy": "2021-06-26T13:55:25.067676Z",
     "iopub.status.idle": "2021-06-26T13:55:25.134499Z",
     "shell.execute_reply": "2021-06-26T13:55:25.133836Z",
     "shell.execute_reply.started": "2021-06-26T13:52:39.099506Z"
    },
    "papermill": {
     "duration": 0.145735,
     "end_time": "2021-06-26T13:55:25.134643",
     "exception": false,
     "start_time": "2021-06-26T13:55:24.988908",
     "status": "completed"
    },
    "tags": []
   },
   "outputs": [
    {
     "name": "stdout",
     "output_type": "stream",
     "text": [
      "14/14 [==============================] - 0s 975us/step - loss: 0.1519 - accuracy: 0.9432\n"
     ]
    },
    {
     "data": {
      "text/plain": [
       "[0.15191304683685303, 0.9431818127632141]"
      ]
     },
     "execution_count": 14,
     "metadata": {},
     "output_type": "execute_result"
    }
   ],
   "source": [
    "model.evaluate(X_test, y_test)"
   ]
  },
  {
   "cell_type": "markdown",
   "id": "extensive-occupation",
   "metadata": {
    "papermill": {
     "duration": 0.073902,
     "end_time": "2021-06-26T13:55:25.284020",
     "exception": false,
     "start_time": "2021-06-26T13:55:25.210118",
     "status": "completed"
    },
    "tags": []
   },
   "source": [
    "# Please give feedback and upvote my notebook if you like this"
   ]
  }
 ],
 "metadata": {
  "kernelspec": {
   "display_name": "Python 3 (ipykernel)",
   "language": "python",
   "name": "python3"
  },
  "language_info": {
   "codemirror_mode": {
    "name": "ipython",
    "version": 3
   },
   "file_extension": ".py",
   "mimetype": "text/x-python",
   "name": "python",
   "nbconvert_exporter": "python",
   "pygments_lexer": "ipython3",
   "version": "3.7.3"
  },
  "papermill": {
   "default_parameters": {},
   "duration": 23.745171,
   "end_time": "2021-06-26T13:55:27.101938",
   "environment_variables": {},
   "exception": null,
   "input_path": "__notebook__.ipynb",
   "output_path": "__notebook__.ipynb",
   "parameters": {},
   "start_time": "2021-06-26T13:55:03.356767",
   "version": "2.3.3"
  }
 },
 "nbformat": 4,
 "nbformat_minor": 5
}
